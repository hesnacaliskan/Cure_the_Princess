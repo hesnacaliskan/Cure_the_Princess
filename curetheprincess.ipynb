{
  "nbformat": 4,
  "nbformat_minor": 0,
  "metadata": {
    "colab": {
      "provenance": [],
      "authorship_tag": "ABX9TyNReum/ufIDrMvoeHhAqbZZ",
      "include_colab_link": true
    },
    "kernelspec": {
      "name": "python3",
      "display_name": "Python 3"
    },
    "language_info": {
      "name": "python"
    },
    "accelerator": "GPU",
    "gpuClass": "standard"
  },
  "cells": [
    {
      "cell_type": "markdown",
      "metadata": {
        "id": "view-in-github",
        "colab_type": "text"
      },
      "source": [
        "<a href=\"https://colab.research.google.com/github/hesnacaliskan/Cure_the_Princess/blob/main/curetheprincess.ipynb\" target=\"_parent\"><img src=\"https://colab.research.google.com/assets/colab-badge.svg\" alt=\"Open In Colab\"/></a>"
      ]
    },
    {
      "cell_type": "code",
      "execution_count": 46,
      "metadata": {
        "id": "wSicPVjpEpee"
      },
      "outputs": [],
      "source": [
        "import numpy as np\n",
        "import matplotlib.pyplot as plt\n",
        "import pandas as pd"
      ]
    },
    {
      "cell_type": "code",
      "source": [
        "import torch\n",
        "import torch.nn as nn\n",
        "#import torchvision\n",
        "#import torchvision.transforms as transforms\n",
        "import torch.optim as optim"
      ],
      "metadata": {
        "id": "Dcd4ADuAEy5b"
      },
      "execution_count": 47,
      "outputs": []
    },
    {
      "cell_type": "code",
      "source": [
        "torch.manual_seed(190401007)"
      ],
      "metadata": {
        "colab": {
          "base_uri": "https://localhost:8080/"
        },
        "id": "A3iVtG9xTr4-",
        "outputId": "44b68c55-92b9-4790-801e-6b2ee087a369"
      },
      "execution_count": 48,
      "outputs": [
        {
          "output_type": "execute_result",
          "data": {
            "text/plain": [
              "<torch._C.Generator at 0x7f645372d330>"
            ]
          },
          "metadata": {},
          "execution_count": 48
        }
      ]
    },
    {
      "cell_type": "code",
      "source": [
        "train_url = 'https://raw.githubusercontent.com/hesnacaliskan/Cure_the_Princess/main/cure_the_princess_train.csv?token=GHSAT0AAAAAACAT6TIGSXLHFA6KRIAV6AW4ZBROO2A'\n",
        "val_url  = 'https://raw.githubusercontent.com/hesnacaliskan/Cure_the_Princess/main/cure_the_princess_validation.csv?token=GHSAT0AAAAAACAT6TIGMJVT442WXQWOZ5GGZBROPAQ'\n",
        "test_url = 'https://raw.githubusercontent.com/hesnacaliskan/Cure_the_Princess/main/cure_the_princess_test.csv?token=GHSAT0AAAAAACAT6TIHH3SRY4WC4VI35XFUZBROORQ'"
      ],
      "metadata": {
        "id": "RYsqLkW1E1a5"
      },
      "execution_count": 86,
      "outputs": []
    },
    {
      "cell_type": "code",
      "source": [
        "train_data = pd.read_csv(train_url)\n",
        "train_labels = train_data.iloc[:, -1]\n",
        "train_data = train_data.iloc[:, :-1]\n",
        "\n",
        "val_data = pd.read_csv(val_url)\n",
        "val_labels = val_data.iloc[:, -1]\n",
        "val_data = val_data.iloc[:, :-1] \n",
        "\n",
        "test_data = pd.read_csv(test_url)\n",
        "test_labels = test_data.iloc[:, -1]\n",
        "test_data = test_data.iloc[:, :-1]\n"
      ],
      "metadata": {
        "id": "2UYh6kG9E4fY"
      },
      "execution_count": 87,
      "outputs": []
    },
    {
      "cell_type": "code",
      "source": [
        "train_data = torch.Tensor(train_data.values)\n",
        "train_labels = torch.Tensor(train_labels.values).view(-1, 1)\n",
        "\n",
        "test_data = torch.Tensor(test_data.values)\n",
        "test_labels = torch.Tensor(test_labels.values).view(-1, 1)\n",
        "\n",
        "val_data = torch.Tensor(val_data.values)\n",
        "val_labels = torch.Tensor(val_labels.values).view(-1, 1)\n"
      ],
      "metadata": {
        "id": "16_W8Q0EF_Vs"
      },
      "execution_count": 88,
      "outputs": []
    },
    {
      "cell_type": "code",
      "source": [
        "class MLP(nn.Module):\n",
        "    def __init__(self, input_size, hidden_size1, hidden_size2, output_size):\n",
        "        super(MLP, self).__init__()\n",
        "        self.fc1 = nn.Linear(input_size, hidden_size1)\n",
        "        self.relu1 = nn.ReLU()\n",
        "        self.fc2 = nn.Linear(hidden_size1, hidden_size2)\n",
        "        self.relu2 = nn.ReLU()\n",
        "        self.fc3 = nn.Linear(hidden_size2, output_size)\n",
        "        self.sigmoid = nn.Sigmoid()\n",
        "        \n",
        "    def forward(self, x):\n",
        "        out = self.fc1(x)\n",
        "        out = self.relu1(out)\n",
        "        out = self.fc2(out)\n",
        "        out = self.relu2(out)\n",
        "        out = self.fc3(out)\n",
        "        out = self.sigmoid(out)\n",
        "        return out\n"
      ],
      "metadata": {
        "id": "Vv8YY9CGF1p7"
      },
      "execution_count": 89,
      "outputs": []
    },
    {
      "cell_type": "code",
      "source": [
        "input_size = 13\n",
        "hidden_size1 = 100\n",
        "hidden_size2 = 50\n",
        "output_size = 1\n",
        "learning_rate = 0.001\n",
        "epochs = 100\n",
        "batch_size = 32\n",
        "\n",
        "model = MLP(input_size, hidden_size1, hidden_size2, output_size)\n",
        "criterion = nn.BCELoss()\n",
        "optimizer = optim.SGD(model.parameters(), lr=learning_rate)\n"
      ],
      "metadata": {
        "id": "8XOgl2bQF5ef"
      },
      "execution_count": 90,
      "outputs": []
    },
    {
      "cell_type": "code",
      "source": [
        "train_losses = []\n",
        "val_losses = []\n",
        "\n",
        "for epoch in range(epochs):\n",
        "    # Train\n",
        "    model.train()\n",
        "    train_loss = 0.0\n",
        "    for i in range(0, len(train_data), batch_size):\n",
        "        # Get batch of data\n",
        "        batch_data = train_data[i:i+batch_size]\n",
        "        batch_labels = train_labels[i:i+batch_size]\n",
        "        # Zero the gradients\n",
        "        optimizer.zero_grad()\n",
        "        # Forward pass\n",
        "        outputs = model(batch_data)\n",
        "        loss = criterion(outputs, batch_labels.view(-1, 1))\n",
        "        # Backward pass and optimization\n",
        "        loss.backward()\n",
        "        optimizer.step()\n",
        "        train_loss += loss.item() * batch_data.size(0)\n",
        "    train_loss = train_loss / len(train_data)\n",
        "    train_losses.append(train_loss)\n",
        "    \n",
        "    # Validation\n",
        "    model.eval()\n",
        "    val_loss = 0.0\n",
        "    with torch.no_grad():\n",
        "        for i in range(0, len(val_data), batch_size):\n",
        "            # Get batch of data\n",
        "            batch_data = val_data[i:i+batch_size]\n",
        "            batch_labels = val_labels[i:i+batch_size]            \n",
        "\n",
        "            # Forward pass\n",
        "            outputs = model(batch_data)\n",
        "            loss = criterion(outputs, batch_labels.view(-1, 1))\n",
        "            val_loss += loss.item() * batch_data.size(0)\n",
        "        val_loss = val_loss / len(val_data)\n",
        "        val_losses.append(val_loss)\n",
        "    \n",
        "    # Print epoch and loss\n",
        "    if (epoch+1) % 10 == 0:\n",
        "        print(f'Epoch [{epoch+1}/{epochs}], Train Loss: {train_loss:.4f}, Validation Loss: {val_loss:.4f}')"
      ],
      "metadata": {
        "colab": {
          "base_uri": "https://localhost:8080/"
        },
        "id": "rhvfgiDxKILh",
        "outputId": "58c15c47-2f0b-49c7-dcd8-c79bdbfe9a42"
      },
      "execution_count": 91,
      "outputs": [
        {
          "output_type": "stream",
          "name": "stdout",
          "text": [
            "Epoch [10/100], Train Loss: 0.4628, Validation Loss: 0.4267\n",
            "Epoch [20/100], Train Loss: 0.3625, Validation Loss: 0.3201\n",
            "Epoch [30/100], Train Loss: 0.3099, Validation Loss: 0.2658\n",
            "Epoch [40/100], Train Loss: 0.2803, Validation Loss: 0.2379\n",
            "Epoch [50/100], Train Loss: 0.2600, Validation Loss: 0.2208\n",
            "Epoch [60/100], Train Loss: 0.2434, Validation Loss: 0.2083\n",
            "Epoch [70/100], Train Loss: 0.2295, Validation Loss: 0.1993\n",
            "Epoch [80/100], Train Loss: 0.2176, Validation Loss: 0.1918\n",
            "Epoch [90/100], Train Loss: 0.2073, Validation Loss: 0.1855\n",
            "Epoch [100/100], Train Loss: 0.1980, Validation Loss: 0.1803\n"
          ]
        }
      ]
    },
    {
      "cell_type": "code",
      "source": [
        "plt.plot(train_losses, label='Train')\n",
        "plt.plot(val_losses, label='Validation')\n",
        "plt.xlabel('Epochs')\n",
        "plt.ylabel('Loss')\n",
        "plt.legend()\n",
        "plt.show()"
      ],
      "metadata": {
        "colab": {
          "base_uri": "https://localhost:8080/",
          "height": 449
        },
        "id": "zmw6tfubK75r",
        "outputId": "8e6ef4c6-82d2-454c-b243-f95cd054b114"
      },
      "execution_count": 92,
      "outputs": [
        {
          "output_type": "display_data",
          "data": {
            "text/plain": [
              "<Figure size 640x480 with 1 Axes>"
            ],
            "image/png": "[encoded data removed]"
          },
          "metadata": {}
        }
      ]
    },
    {
      "cell_type": "code",
      "source": [
        "best_model_params = None\n",
        "best_val_loss = float('inf')\n",
        "patience = 20\n",
        "counter = 0\n",
        "\n",
        "for epoch in range(epochs):\n",
        "    # Train\n",
        "    model.train()\n",
        "    train_loss = 0.0\n",
        "    for i in range(0, len(train_data), batch_size):\n",
        "        # Get batch of data\n",
        "        batch_data = train_data[i:i+batch_size]\n",
        "        batch_labels = train_labels[i:i+batch_size]\n",
        "        # Zero the gradients\n",
        "        optimizer.zero_grad()\n",
        "        # Forward pass\n",
        "        outputs = model(batch_data)\n",
        "        loss = criterion(outputs, batch_labels.view(-1, 1))\n",
        "        # Backward pass and optimization\n",
        "        loss.backward()\n",
        "        optimizer.step()\n",
        "        train_loss += loss.item() * batch_data.size(0)\n",
        "    train_loss = train_loss / len(train_data)\n",
        "    train_losses.append(train_loss)\n",
        "    \n",
        "    # Validation\n",
        "    model.eval()\n",
        "    val_loss = 0.0\n",
        "    with torch.no_grad():\n",
        "        for i in range(0, len(val_data), batch_size):\n",
        "            # Get batch of data\n",
        "            batch_data = val_data[i:i+batch_size]\n",
        "            batch_labels = val_labels[i:i+batch_size]            \n",
        "\n",
        "            # Forward pass\n",
        "            outputs = model(batch_data)\n",
        "            loss = criterion(outputs, batch_labels.view(-1, 1))\n",
        "            val_loss += loss.item() * batch_data.size(0)\n",
        "        val_loss = val_loss / len(val_data)\n",
        "        val_losses.append(val_loss)\n",
        "        \n",
        "        # Check if validation loss is the best so far\n",
        "        if val_loss < best_val_loss:\n",
        "            best_val_loss = val_loss\n",
        "            best_model_params = model\n",
        "            counter = 0\n",
        "        else:\n",
        "            counter += 1\n",
        "            \n",
        "        # Early stopping condition\n",
        "        if counter >= patience:\n",
        "            #print(f'Early stopping at epoch {epoch+1}')\n",
        "            print(\"Validation loss hasn't improved for {} epochs. Stopping training early.\".format(patience))\n",
        "            break\n",
        "    \n",
        "    # Print epoch and loss\n",
        "    if (epoch+1) % 10 == 0:\n",
        "        print(f'Epoch [{epoch+1}/{epochs}], Train Loss: {train_loss:.4f}, Validation Loss: {val_loss:.4f}')\n"
      ],
      "metadata": {
        "colab": {
          "base_uri": "https://localhost:8080/"
        },
        "id": "GQ1S0mVS9p73",
        "outputId": "69603be7-0856-4512-c506-b5acb90136ea"
      },
      "execution_count": 99,
      "outputs": [
        {
          "output_type": "stream",
          "name": "stdout",
          "text": [
            "Epoch [10/100], Train Loss: 0.0883, Validation Loss: 0.1471\n",
            "Epoch [20/100], Train Loss: 0.0866, Validation Loss: 0.1475\n",
            "Validation loss hasn't improved for 20 epochs. Stopping training early.\n"
          ]
        }
      ]
    },
    {
      "cell_type": "code",
      "source": [
        "    # Compute validation accuracy, precision, recall and F1 score\n",
        "    tp = 0  # True positives\n",
        "    fp = 0  # False positives\n",
        "    tn = 0  # True negatives\n",
        "    fn = 0  # False negatives\n",
        "    best_model_params.eval()\n",
        "    with torch.no_grad():\n",
        "        for i in range(0, len(test_data), batch_size):\n",
        "            # Get batch of data\n",
        "            batch_data = test_data[i:i+batch_size]\n",
        "            batch_labels = test_labels[i:i+batch_size]\n",
        "\n",
        "            # Forward pass\n",
        "            outputs = best_model_params(batch_data)\n",
        "            predicted_labels = (outputs >= 0.5).float()\n",
        "\n",
        "            # Update confusion matrix\n",
        "            tp += torch.sum(predicted_labels * batch_labels).item()\n",
        "            fp += torch.sum(predicted_labels * (1 - batch_labels)).item()\n",
        "            tn += torch.sum((1 - predicted_labels) * (1 - batch_labels)).item()\n",
        "            fn += torch.sum((1 - predicted_labels) * batch_labels).item()\n",
        "\n",
        "            # Compute validation loss\n",
        "            loss = criterion(outputs, batch_labels.view(-1, 1))\n",
        "            val_loss += loss.item() * batch_data.size(0)\n",
        "        val_loss = val_loss / len(test_data)\n",
        "\n",
        "    # Compute accuracy, precision, recall and F1 score\n",
        "    accuracy = (tp + tn) / (tp + tn + fp + fn)\n",
        "    precision = tp / (tp + fp)\n",
        "    recall = tp / (tp + fn)\n",
        "    f1 = 2 * precision * recall / (precision + recall)\n",
        "\n",
        "    print(f'Test Accuracy: {accuracy:.4f}, Test Precision: {precision:.4f}, Test Recall: {recall:.4f}, Test F1: {f1:.4f}')\n"
      ],
      "metadata": {
        "colab": {
          "base_uri": "https://localhost:8080/"
        },
        "id": "Xycn4R-jGORw",
        "outputId": "b5f8b4d4-ce97-484a-a81d-68a8d85476b4"
      },
      "execution_count": 94,
      "outputs": [
        {
          "output_type": "stream",
          "name": "stdout",
          "text": [
            "Test Accuracy: 0.9326, Test Precision: 0.9590, Test Recall: 0.9046, Test F1: 0.9310\n"
          ]
        }
      ]
    }
  ]
}