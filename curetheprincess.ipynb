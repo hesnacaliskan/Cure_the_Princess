{
  "nbformat": 4,
  "nbformat_minor": 0,
  "metadata": {
    "colab": {
      "provenance": [],
      "authorship_tag": "ABX9TyOiaEJe5SnWVTGFrRUZ0IgZ",
      "include_colab_link": true
    },
    "kernelspec": {
      "name": "python3",
      "display_name": "Python 3"
    },
    "language_info": {
      "name": "python"
    },
    "accelerator": "GPU",
    "gpuClass": "standard"
  },
  "cells": [
    {
      "cell_type": "markdown",
      "metadata": {
        "id": "view-in-github",
        "colab_type": "text"
      },
      "source": [
        "<a href=\"https://colab.research.google.com/github/hesnacaliskan/Cure_the_Princess/blob/main/curetheprincess.ipynb\" target=\"_parent\"><img src=\"https://colab.research.google.com/assets/colab-badge.svg\" alt=\"Open In Colab\"/></a>"
      ]
    },
    {
      "cell_type": "code",
      "execution_count": 34,
      "metadata": {
        "id": "wSicPVjpEpee"
      },
      "outputs": [],
      "source": [
        "import numpy as np\n",
        "import matplotlib.pyplot as plt\n",
        "import pandas as pd"
      ]
    },
    {
      "cell_type": "code",
      "source": [
        "import torch\n",
        "import torch.nn as nn\n",
        "#import torchvision\n",
        "#import torchvision.transforms as transforms\n",
        "import torch.optim as optim"
      ],
      "metadata": {
        "id": "Dcd4ADuAEy5b"
      },
      "execution_count": 35,
      "outputs": []
    },
    {
      "cell_type": "code",
      "source": [
        "torch.manual_seed(190401007)"
      ],
      "metadata": {
        "colab": {
          "base_uri": "https://localhost:8080/"
        },
        "id": "A3iVtG9xTr4-",
        "outputId": "9a7ef321-bb26-4824-c5ae-aa10af87c0d1"
      },
      "execution_count": 36,
      "outputs": [
        {
          "output_type": "execute_result",
          "data": {
            "text/plain": [
              "<torch._C.Generator at 0x7fdd065382d0>"
            ]
          },
          "metadata": {},
          "execution_count": 36
        }
      ]
    },
    {
      "cell_type": "code",
      "source": [
        "train_url = 'https://raw.githubusercontent.com/hesnacaliskan/Cure_the_Princess/main/cure_the_princess_train.csv?token=GHSAT0AAAAAACAT6TIGDIGKFGYMJH4GF552ZBQPUEQ'\n",
        "val_url  = 'https://raw.githubusercontent.com/hesnacaliskan/Cure_the_Princess/main/cure_the_princess_validation.csv?token=GHSAT0AAAAAACAT6TIGPJ2K43CQNYYMBUCAZBQPULQ'\n",
        "test_url = 'https://raw.githubusercontent.com/hesnacaliskan/Cure_the_Princess/main/cure_the_princess_test.csv?token=GHSAT0AAAAAACAT6TIG5M5RQWLR3JGFBDGCZBQPT4A'"
      ],
      "metadata": {
        "id": "RYsqLkW1E1a5"
      },
      "execution_count": 37,
      "outputs": []
    },
    {
      "cell_type": "code",
      "source": [
        "train_data = pd.read_csv(train_url)\n",
        "train_labels = train_data.iloc[:, -1]\n",
        "train_data = train_data.iloc[:, :-1]\n",
        "\n",
        "val_data = pd.read_csv(val_url)\n",
        "val_labels = val_data.iloc[:, -1]\n",
        "val_data = val_data.iloc[:, :-1] \n",
        "\n",
        "test_data = pd.read_csv(test_url)\n",
        "test_labels = test_data.iloc[:, -1]\n",
        "test_data = test_data.iloc[:, :-1]\n"
      ],
      "metadata": {
        "id": "2UYh6kG9E4fY"
      },
      "execution_count": 38,
      "outputs": []
    },
    {
      "cell_type": "code",
      "source": [
        "class MLP(nn.Module):\n",
        "    def __init__(self, input_size, hidden_size1, hidden_size2, output_size):\n",
        "        super(MLP, self).__init__()\n",
        "        self.fc1 = nn.Linear(input_size, hidden_size1)\n",
        "        self.relu1 = nn.ReLU()\n",
        "        self.fc2 = nn.Linear(hidden_size1, hidden_size2)\n",
        "        self.relu2 = nn.ReLU()\n",
        "        self.fc3 = nn.Linear(hidden_size2, output_size)\n",
        "        self.sigmoid = nn.Sigmoid()\n",
        "        \n",
        "    def forward(self, x):\n",
        "        out = self.fc1(x)\n",
        "        out = self.relu1(out)\n",
        "        out = self.fc2(out)\n",
        "        out = self.relu2(out)\n",
        "        out = self.fc3(out)\n",
        "        out = self.sigmoid(out)\n",
        "        return out\n"
      ],
      "metadata": {
        "id": "Vv8YY9CGF1p7"
      },
      "execution_count": 39,
      "outputs": []
    },
    {
      "cell_type": "code",
      "source": [
        "input_size = 13\n",
        "hidden_size1 = 100\n",
        "hidden_size2 = 50\n",
        "output_size = 1\n",
        "learning_rate = 0.001\n",
        "epochs = 1000\n",
        "batch_size = 32\n",
        "\n",
        "model = MLP(input_size, hidden_size1, hidden_size2, output_size)\n",
        "criterion = nn.BCELoss()\n",
        "optimizer = optim.SGD(model.parameters(), lr=learning_rate)\n"
      ],
      "metadata": {
        "id": "8XOgl2bQF5ef"
      },
      "execution_count": 40,
      "outputs": []
    },
    {
      "cell_type": "code",
      "source": [
        "train_data = torch.Tensor(train_data.values)\n",
        "train_labels = torch.Tensor(train_labels.values).view(-1, 1)\n",
        "\n",
        "test_data = torch.Tensor(test_data.values)\n",
        "test_labels = torch.Tensor(test_labels.values).view(-1, 1)\n",
        "\n",
        "val_data = torch.Tensor(val_data.values)\n",
        "val_labels = torch.Tensor(val_labels.values).view(-1, 1)\n"
      ],
      "metadata": {
        "id": "16_W8Q0EF_Vs"
      },
      "execution_count": 41,
      "outputs": []
    },
    {
      "cell_type": "code",
      "source": [
        "train_losses = []\n",
        "val_losses = []\n",
        "\n",
        "for epoch in range(epochs):\n",
        "    # Train\n",
        "    model.train()\n",
        "    train_loss = 0.0\n",
        "    for i in range(0, len(train_data), batch_size):\n",
        "        # Get batch of data\n",
        "        batch_data = train_data[i:i+batch_size]\n",
        "        batch_labels = train_labels[i:i+batch_size]\n",
        "        # Zero the gradients\n",
        "        optimizer.zero_grad()\n",
        "        # Forward pass\n",
        "        outputs = model(batch_data)\n",
        "        loss = criterion(outputs, batch_labels.view(-1, 1))\n",
        "        # Backward pass and optimization\n",
        "        loss.backward()\n",
        "        optimizer.step()\n",
        "        train_loss += loss.item() * batch_data.size(0)\n",
        "    train_loss = train_loss / len(train_data)\n",
        "    train_losses.append(train_loss)\n",
        "    \n",
        "    # Validation\n",
        "    model.eval()\n",
        "    val_loss = 0.0\n",
        "    with torch.no_grad():\n",
        "        for i in range(0, len(val_data), batch_size):\n",
        "            # Get batch of data\n",
        "            batch_data = val_data[i:i+batch_size]\n",
        "            batch_labels = val_labels[i:i+batch_size]            \n",
        "\n",
        "            # Forward pass\n",
        "            outputs = model(batch_data)\n",
        "            loss = criterion(outputs, batch_labels.view(-1, 1))\n",
        "            val_loss += loss.item() * batch_data.size(0)\n",
        "        val_loss = val_loss / len(val_data)\n",
        "        val_losses.append(val_loss)\n",
        "    \n",
        "    # Print epoch and loss\n",
        "    if (epoch+1) % 10 == 0:\n",
        "        print(f'Epoch [{epoch+1}/{epochs}], Train Loss: {train_loss:.4f}, Validation Loss: {val_loss:.4f}')"
      ],
      "metadata": {
        "colab": {
          "base_uri": "https://localhost:8080/"
        },
        "id": "rhvfgiDxKILh",
        "outputId": "399bc9e7-3a0e-47f0-9314-00a167b01d06"
      },
      "execution_count": 42,
      "outputs": [
        {
          "output_type": "stream",
          "name": "stdout",
          "text": [
            "Epoch [10/1000], Train Loss: 0.4976, Validation Loss: 0.4550\n",
            "Epoch [20/1000], Train Loss: 0.3897, Validation Loss: 0.3342\n",
            "Epoch [30/1000], Train Loss: 0.3370, Validation Loss: 0.2753\n",
            "Epoch [40/1000], Train Loss: 0.3091, Validation Loss: 0.2466\n",
            "Epoch [50/1000], Train Loss: 0.2906, Validation Loss: 0.2293\n",
            "Epoch [60/1000], Train Loss: 0.2745, Validation Loss: 0.2166\n",
            "Epoch [70/1000], Train Loss: 0.2598, Validation Loss: 0.2060\n",
            "Epoch [80/1000], Train Loss: 0.2466, Validation Loss: 0.1972\n",
            "Epoch [90/1000], Train Loss: 0.2349, Validation Loss: 0.1900\n",
            "Epoch [100/1000], Train Loss: 0.2242, Validation Loss: 0.1834\n",
            "Epoch [110/1000], Train Loss: 0.2141, Validation Loss: 0.1772\n",
            "Epoch [120/1000], Train Loss: 0.2049, Validation Loss: 0.1715\n",
            "Epoch [130/1000], Train Loss: 0.1963, Validation Loss: 0.1663\n",
            "Epoch [140/1000], Train Loss: 0.1883, Validation Loss: 0.1617\n",
            "Epoch [150/1000], Train Loss: 0.1808, Validation Loss: 0.1577\n",
            "Epoch [160/1000], Train Loss: 0.1738, Validation Loss: 0.1541\n",
            "Epoch [170/1000], Train Loss: 0.1671, Validation Loss: 0.1508\n",
            "Epoch [180/1000], Train Loss: 0.1610, Validation Loss: 0.1479\n",
            "Epoch [190/1000], Train Loss: 0.1554, Validation Loss: 0.1450\n",
            "Epoch [200/1000], Train Loss: 0.1502, Validation Loss: 0.1421\n",
            "Epoch [210/1000], Train Loss: 0.1454, Validation Loss: 0.1397\n",
            "Epoch [220/1000], Train Loss: 0.1408, Validation Loss: 0.1375\n",
            "Epoch [230/1000], Train Loss: 0.1366, Validation Loss: 0.1354\n",
            "Epoch [240/1000], Train Loss: 0.1326, Validation Loss: 0.1335\n",
            "Epoch [250/1000], Train Loss: 0.1289, Validation Loss: 0.1319\n",
            "Epoch [260/1000], Train Loss: 0.1254, Validation Loss: 0.1306\n",
            "Epoch [270/1000], Train Loss: 0.1222, Validation Loss: 0.1294\n",
            "Epoch [280/1000], Train Loss: 0.1192, Validation Loss: 0.1282\n",
            "Epoch [290/1000], Train Loss: 0.1163, Validation Loss: 0.1273\n",
            "Epoch [300/1000], Train Loss: 0.1135, Validation Loss: 0.1265\n",
            "Epoch [310/1000], Train Loss: 0.1109, Validation Loss: 0.1257\n",
            "Epoch [320/1000], Train Loss: 0.1084, Validation Loss: 0.1252\n",
            "Epoch [330/1000], Train Loss: 0.1060, Validation Loss: 0.1247\n",
            "Epoch [340/1000], Train Loss: 0.1037, Validation Loss: 0.1242\n",
            "Epoch [350/1000], Train Loss: 0.1014, Validation Loss: 0.1239\n",
            "Epoch [360/1000], Train Loss: 0.0993, Validation Loss: 0.1235\n",
            "Epoch [370/1000], Train Loss: 0.0972, Validation Loss: 0.1233\n",
            "Epoch [380/1000], Train Loss: 0.0952, Validation Loss: 0.1230\n",
            "Epoch [390/1000], Train Loss: 0.0933, Validation Loss: 0.1228\n",
            "Epoch [400/1000], Train Loss: 0.0913, Validation Loss: 0.1226\n",
            "Epoch [410/1000], Train Loss: 0.0894, Validation Loss: 0.1226\n",
            "Epoch [420/1000], Train Loss: 0.0876, Validation Loss: 0.1226\n",
            "Epoch [430/1000], Train Loss: 0.0858, Validation Loss: 0.1225\n",
            "Epoch [440/1000], Train Loss: 0.0840, Validation Loss: 0.1225\n",
            "Epoch [450/1000], Train Loss: 0.0823, Validation Loss: 0.1224\n",
            "Epoch [460/1000], Train Loss: 0.0807, Validation Loss: 0.1229\n",
            "Epoch [470/1000], Train Loss: 0.0790, Validation Loss: 0.1230\n",
            "Epoch [480/1000], Train Loss: 0.0775, Validation Loss: 0.1229\n",
            "Epoch [490/1000], Train Loss: 0.0760, Validation Loss: 0.1229\n",
            "Epoch [500/1000], Train Loss: 0.0745, Validation Loss: 0.1229\n",
            "Epoch [510/1000], Train Loss: 0.0731, Validation Loss: 0.1228\n",
            "Epoch [520/1000], Train Loss: 0.0717, Validation Loss: 0.1227\n",
            "Epoch [530/1000], Train Loss: 0.0702, Validation Loss: 0.1228\n",
            "Epoch [540/1000], Train Loss: 0.0689, Validation Loss: 0.1230\n",
            "Epoch [550/1000], Train Loss: 0.0676, Validation Loss: 0.1233\n",
            "Epoch [560/1000], Train Loss: 0.0663, Validation Loss: 0.1235\n",
            "Epoch [570/1000], Train Loss: 0.0650, Validation Loss: 0.1235\n",
            "Epoch [580/1000], Train Loss: 0.0637, Validation Loss: 0.1237\n",
            "Epoch [590/1000], Train Loss: 0.0625, Validation Loss: 0.1241\n",
            "Epoch [600/1000], Train Loss: 0.0613, Validation Loss: 0.1243\n",
            "Epoch [610/1000], Train Loss: 0.0602, Validation Loss: 0.1243\n",
            "Epoch [620/1000], Train Loss: 0.0590, Validation Loss: 0.1244\n",
            "Epoch [630/1000], Train Loss: 0.0579, Validation Loss: 0.1246\n",
            "Epoch [640/1000], Train Loss: 0.0569, Validation Loss: 0.1250\n",
            "Epoch [650/1000], Train Loss: 0.0557, Validation Loss: 0.1249\n",
            "Epoch [660/1000], Train Loss: 0.0548, Validation Loss: 0.1253\n",
            "Epoch [670/1000], Train Loss: 0.0537, Validation Loss: 0.1256\n",
            "Epoch [680/1000], Train Loss: 0.0527, Validation Loss: 0.1256\n",
            "Epoch [690/1000], Train Loss: 0.0517, Validation Loss: 0.1261\n",
            "Epoch [700/1000], Train Loss: 0.0507, Validation Loss: 0.1261\n",
            "Epoch [710/1000], Train Loss: 0.0498, Validation Loss: 0.1263\n",
            "Epoch [720/1000], Train Loss: 0.0489, Validation Loss: 0.1268\n",
            "Epoch [730/1000], Train Loss: 0.0479, Validation Loss: 0.1270\n",
            "Epoch [740/1000], Train Loss: 0.0471, Validation Loss: 0.1278\n",
            "Epoch [750/1000], Train Loss: 0.0461, Validation Loss: 0.1282\n",
            "Epoch [760/1000], Train Loss: 0.0452, Validation Loss: 0.1290\n",
            "Epoch [770/1000], Train Loss: 0.0443, Validation Loss: 0.1296\n",
            "Epoch [780/1000], Train Loss: 0.0436, Validation Loss: 0.1299\n",
            "Epoch [790/1000], Train Loss: 0.0428, Validation Loss: 0.1306\n",
            "Epoch [800/1000], Train Loss: 0.0420, Validation Loss: 0.1309\n",
            "Epoch [810/1000], Train Loss: 0.0413, Validation Loss: 0.1314\n",
            "Epoch [820/1000], Train Loss: 0.0405, Validation Loss: 0.1314\n",
            "Epoch [830/1000], Train Loss: 0.0399, Validation Loss: 0.1322\n",
            "Epoch [840/1000], Train Loss: 0.0391, Validation Loss: 0.1330\n",
            "Epoch [850/1000], Train Loss: 0.0384, Validation Loss: 0.1331\n",
            "Epoch [860/1000], Train Loss: 0.0378, Validation Loss: 0.1336\n",
            "Epoch [870/1000], Train Loss: 0.0371, Validation Loss: 0.1342\n",
            "Epoch [880/1000], Train Loss: 0.0365, Validation Loss: 0.1347\n",
            "Epoch [890/1000], Train Loss: 0.0358, Validation Loss: 0.1345\n",
            "Epoch [900/1000], Train Loss: 0.0351, Validation Loss: 0.1357\n",
            "Epoch [910/1000], Train Loss: 0.0345, Validation Loss: 0.1359\n",
            "Epoch [920/1000], Train Loss: 0.0339, Validation Loss: 0.1367\n",
            "Epoch [930/1000], Train Loss: 0.0334, Validation Loss: 0.1371\n",
            "Epoch [940/1000], Train Loss: 0.0328, Validation Loss: 0.1373\n",
            "Epoch [950/1000], Train Loss: 0.0322, Validation Loss: 0.1376\n",
            "Epoch [960/1000], Train Loss: 0.0317, Validation Loss: 0.1380\n",
            "Epoch [970/1000], Train Loss: 0.0311, Validation Loss: 0.1385\n",
            "Epoch [980/1000], Train Loss: 0.0307, Validation Loss: 0.1390\n",
            "Epoch [990/1000], Train Loss: 0.0301, Validation Loss: 0.1391\n",
            "Epoch [1000/1000], Train Loss: 0.0296, Validation Loss: 0.1396\n"
          ]
        }
      ]
    },
    {
      "cell_type": "code",
      "source": [
        "plt.plot(train_losses, label='Train')\n",
        "plt.plot(val_losses, label='Validation')\n",
        "plt.xlabel('Epochs')\n",
        "plt.ylabel('Loss')\n",
        "plt.legend()\n",
        "plt.show()"
      ],
      "metadata": {
        "colab": {
          "base_uri": "https://localhost:8080/",
          "height": 449
        },
        "id": "zmw6tfubK75r",
        "outputId": "e0e13793-22a5-40c5-a665-b2aa9a809e5b"
      },
      "execution_count": 43,
      "outputs": [
        {
          "output_type": "display_data",
          "data": {
            "text/plain": [
              "<Figure size 640x480 with 1 Axes>"
            ],
            "image/png": "[encoded data removed]"
          },
          "metadata": {}
        }
      ]
    },
    {
      "cell_type": "code",
      "source": [
        "best_model_params = None\n",
        "best_val_loss = float('inf')\n",
        "patience = 20\n",
        "counter = 0\n",
        "\n",
        "for epoch in range(epochs):\n",
        "    # Train\n",
        "    model.train()\n",
        "    train_loss = 0.0\n",
        "    for i in range(0, len(train_data), batch_size):\n",
        "        # Get batch of data\n",
        "        batch_data = train_data[i:i+batch_size]\n",
        "        batch_labels = train_labels[i:i+batch_size]\n",
        "        # Zero the gradients\n",
        "        optimizer.zero_grad()\n",
        "        # Forward pass\n",
        "        outputs = model(batch_data)\n",
        "        loss = criterion(outputs, batch_labels.view(-1, 1))\n",
        "        # Backward pass and optimization\n",
        "        loss.backward()\n",
        "        optimizer.step()\n",
        "        train_loss += loss.item() * batch_data.size(0)\n",
        "    train_loss = train_loss / len(train_data)\n",
        "    train_losses.append(train_loss)\n",
        "    \n",
        "    # Validation\n",
        "    model.eval()\n",
        "    val_loss = 0.0\n",
        "    with torch.no_grad():\n",
        "        for i in range(0, len(val_data), batch_size):\n",
        "            # Get batch of data\n",
        "            batch_data = val_data[i:i+batch_size]\n",
        "            batch_labels = val_labels[i:i+batch_size]            \n",
        "\n",
        "            # Forward pass\n",
        "            outputs = model(batch_data)\n",
        "            loss = criterion(outputs, batch_labels.view(-1, 1))\n",
        "            val_loss += loss.item() * batch_data.size(0)\n",
        "        val_loss = val_loss / len(val_data)\n",
        "        val_losses.append(val_loss)\n",
        "        \n",
        "        # Check if validation loss is the best so far\n",
        "        if val_loss < best_val_loss:\n",
        "            best_val_loss = val_loss\n",
        "            best_model_params = model\n",
        "            counter = 0\n",
        "        else:\n",
        "            counter += 1\n",
        "            \n",
        "        # Early stopping condition\n",
        "        if counter >= patience:\n",
        "            #print(f'Early stopping at epoch {epoch+1}')\n",
        "            print(\"Validation loss hasn't improved for {} epochs. Stopping training early.\".format(patience))\n",
        "\n",
        "            break\n",
        "    \n",
        "    # Print epoch and loss\n",
        "    if (epoch+1) % 10 == 0:\n",
        "        print(f'Epoch [{epoch+1}/{epochs}], Train Loss: {train_loss:.4f}, Validation Loss: {val_loss:.4f}')\n"
      ],
      "metadata": {
        "colab": {
          "base_uri": "https://localhost:8080/"
        },
        "id": "GQ1S0mVS9p73",
        "outputId": "7f3def24-0fb7-4b4b-e3e9-c0ba7626112a"
      },
      "execution_count": 44,
      "outputs": [
        {
          "output_type": "stream",
          "name": "stdout",
          "text": [
            "Epoch [10/1000], Train Loss: 0.0291, Validation Loss: 0.1404\n",
            "Epoch [20/1000], Train Loss: 0.0286, Validation Loss: 0.1409\n",
            "Validation loss hasn't improved for 20 epochs. Stopping training early.\n"
          ]
        }
      ]
    },
    {
      "cell_type": "code",
      "source": [
        "    # Compute validation accuracy, precision, recall and F1 score\n",
        "    tp = 0  # True positives\n",
        "    fp = 0  # False positives\n",
        "    tn = 0  # True negatives\n",
        "    fn = 0  # False negatives\n",
        "    best_model_params.eval()\n",
        "    with torch.no_grad():\n",
        "        for i in range(0, len(test_data), batch_size):\n",
        "            # Get batch of data\n",
        "            batch_data = test_data[i:i+batch_size]\n",
        "            batch_labels = test_labels[i:i+batch_size]\n",
        "\n",
        "            # Forward pass\n",
        "            outputs = best_model_params(batch_data)\n",
        "            predicted_labels = (outputs >= 0.5).float()\n",
        "\n",
        "            # Update confusion matrix\n",
        "            tp += torch.sum(predicted_labels * batch_labels).item()\n",
        "            fp += torch.sum(predicted_labels * (1 - batch_labels)).item()\n",
        "            tn += torch.sum((1 - predicted_labels) * (1 - batch_labels)).item()\n",
        "            fn += torch.sum((1 - predicted_labels) * batch_labels).item()\n",
        "\n",
        "            # Compute validation loss\n",
        "            loss = criterion(outputs, batch_labels.view(-1, 1))\n",
        "            val_loss += loss.item() * batch_data.size(0)\n",
        "        val_loss = val_loss / len(test_data)\n",
        "\n",
        "    # Compute accuracy, precision, recall and F1 score\n",
        "    accuracy = (tp + tn) / (tp + tn + fp + fn)\n",
        "    precision = tp / (tp + fp)\n",
        "    recall = tp / (tp + fn)\n",
        "    f1 = 2 * precision * recall / (precision + recall)\n",
        "\n",
        "    print(f'Test Accuracy: {accuracy:.4f}, Test Precision: {precision:.4f}, Test Recall: {recall:.4f}, Test F1: {f1:.4f}')\n"
      ],
      "metadata": {
        "colab": {
          "base_uri": "https://localhost:8080/"
        },
        "id": "Xycn4R-jGORw",
        "outputId": "2b397a1b-18e9-4ecd-9997-d1582bc8f8fe"
      },
      "execution_count": 45,
      "outputs": [
        {
          "output_type": "stream",
          "name": "stdout",
          "text": [
            "Test Accuracy: 0.9430, Test Precision: 0.9649, Test Recall: 0.9201, Test F1: 0.9420\n"
          ]
        }
      ]
    }
  ]
}