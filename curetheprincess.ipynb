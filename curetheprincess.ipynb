{
  "nbformat": 4,
  "nbformat_minor": 0,
  "metadata": {
    "colab": {
      "provenance": [],
      "authorship_tag": "ABX9TyNnCyd6h+bFaMlo4gaDr37F",
      "include_colab_link": true
    },
    "kernelspec": {
      "name": "python3",
      "display_name": "Python 3"
    },
    "language_info": {
      "name": "python"
    },
    "gpuClass": "standard",
    "accelerator": "GPU"
  },
  "cells": [
    {
      "cell_type": "markdown",
      "metadata": {
        "id": "view-in-github",
        "colab_type": "text"
      },
      "source": [
        "<a href=\"https://colab.research.google.com/github/hesnacaliskan/Cure_the_Princess/blob/main/curetheprincess.ipynb\" target=\"_parent\"><img src=\"https://colab.research.google.com/assets/colab-badge.svg\" alt=\"Open In Colab\"/></a>"
      ]
    },
    {
      "cell_type": "code",
      "execution_count": null,
      "metadata": {
        "id": "wSicPVjpEpee"
      },
      "outputs": [],
      "source": [
        "import numpy as np\n",
        "import matplotlib.pyplot as plt\n",
        "import pandas as pd\n",
        "from google.colab import files\n",
        "import io"
      ]
    },
    {
      "cell_type": "code",
      "source": [
        "import torch\n",
        "import torch.nn as nn\n",
        "#import torchvision\n",
        "#import torchvision.transforms as transforms\n",
        "import torch.optim as optim\n",
        "from torch.utils.data import Dataset, DataLoader"
      ],
      "metadata": {
        "id": "Dcd4ADuAEy5b"
      },
      "execution_count": null,
      "outputs": []
    },
    {
      "cell_type": "code",
      "source": [
        "torch.manual_seed(190401007)"
      ],
      "metadata": {
        "colab": {
          "base_uri": "https://localhost:8080/"
        },
        "id": "A3iVtG9xTr4-",
        "outputId": "230823d0-4db1-4868-d2b9-29d69e0a56f3"
      },
      "execution_count": null,
      "outputs": [
        {
          "output_type": "execute_result",
          "data": {
            "text/plain": [
              "<torch._C.Generator at 0x7f43f2c35dd0>"
            ]
          },
          "metadata": {},
          "execution_count": 37
        }
      ]
    },
    {
      "cell_type": "code",
      "source": [
        "uploaded = files.upload()"
      ],
      "metadata": {
        "colab": {
          "base_uri": "https://localhost:8080/",
          "height": 145
        },
        "id": "H8irtA5rAIYf",
        "outputId": "3789a64c-c368-4035-a615-eb60b13c769d"
      },
      "execution_count": null,
      "outputs": [
        {
          "output_type": "display_data",
          "data": {
            "text/plain": [
              "<IPython.core.display.HTML object>"
            ],
            "text/html": [
              "\n",
              "     <input type=\"file\" id=\"files-2d4a64aa-adbb-451b-b7f0-0b704c425496\" name=\"files[]\" multiple disabled\n",
              "        style=\"border:none\" />\n",
              "     <output id=\"result-2d4a64aa-adbb-451b-b7f0-0b704c425496\">\n",
              "      Upload widget is only available when the cell has been executed in the\n",
              "      current browser session. Please rerun this cell to enable.\n",
              "      </output>\n",
              "      <script>// Copyright 2017 Google LLC\n",
              "//\n",
              "// Licensed under the Apache License, Version 2.0 (the \"License\");\n",
              "// you may not use this file except in compliance with the License.\n",
              "// You may obtain a copy of the License at\n",
              "//\n",
              "//      http://www.apache.org/licenses/LICENSE-2.0\n",
              "//\n",
              "// Unless required by applicable law or agreed to in writing, software\n",
              "// distributed under the License is distributed on an \"AS IS\" BASIS,\n",
              "// WITHOUT WARRANTIES OR CONDITIONS OF ANY KIND, either express or implied.\n",
              "// See the License for the specific language governing permissions and\n",
              "// limitations under the License.\n",
              "\n",
              "/**\n",
              " * @fileoverview Helpers for google.colab Python module.\n",
              " */\n",
              "(function(scope) {\n",
              "function span(text, styleAttributes = {}) {\n",
              "  const element = document.createElement('span');\n",
              "  element.textContent = text;\n",
              "  for (const key of Object.keys(styleAttributes)) {\n",
              "    element.style[key] = styleAttributes[key];\n",
              "  }\n",
              "  return element;\n",
              "}\n",
              "\n",
              "// Max number of bytes which will be uploaded at a time.\n",
              "const MAX_PAYLOAD_SIZE = 100 * 1024;\n",
              "\n",
              "function _uploadFiles(inputId, outputId) {\n",
              "  const steps = uploadFilesStep(inputId, outputId);\n",
              "  const outputElement = document.getElementById(outputId);\n",
              "  // Cache steps on the outputElement to make it available for the next call\n",
              "  // to uploadFilesContinue from Python.\n",
              "  outputElement.steps = steps;\n",
              "\n",
              "  return _uploadFilesContinue(outputId);\n",
              "}\n",
              "\n",
              "// This is roughly an async generator (not supported in the browser yet),\n",
              "// where there are multiple asynchronous steps and the Python side is going\n",
              "// to poll for completion of each step.\n",
              "// This uses a Promise to block the python side on completion of each step,\n",
              "// then passes the result of the previous step as the input to the next step.\n",
              "function _uploadFilesContinue(outputId) {\n",
              "  const outputElement = document.getElementById(outputId);\n",
              "  const steps = outputElement.steps;\n",
              "\n",
              "  const next = steps.next(outputElement.lastPromiseValue);\n",
              "  return Promise.resolve(next.value.promise).then((value) => {\n",
              "    // Cache the last promise value to make it available to the next\n",
              "    // step of the generator.\n",
              "    outputElement.lastPromiseValue = value;\n",
              "    return next.value.response;\n",
              "  });\n",
              "}\n",
              "\n",
              "/**\n",
              " * Generator function which is called between each async step of the upload\n",
              " * process.\n",
              " * @param {string} inputId Element ID of the input file picker element.\n",
              " * @param {string} outputId Element ID of the output display.\n",
              " * @return {!Iterable<!Object>} Iterable of next steps.\n",
              " */\n",
              "function* uploadFilesStep(inputId, outputId) {\n",
              "  const inputElement = document.getElementById(inputId);\n",
              "  inputElement.disabled = false;\n",
              "\n",
              "  const outputElement = document.getElementById(outputId);\n",
              "  outputElement.innerHTML = '';\n",
              "\n",
              "  const pickedPromise = new Promise((resolve) => {\n",
              "    inputElement.addEventListener('change', (e) => {\n",
              "      resolve(e.target.files);\n",
              "    });\n",
              "  });\n",
              "\n",
              "  const cancel = document.createElement('button');\n",
              "  inputElement.parentElement.appendChild(cancel);\n",
              "  cancel.textContent = 'Cancel upload';\n",
              "  const cancelPromise = new Promise((resolve) => {\n",
              "    cancel.onclick = () => {\n",
              "      resolve(null);\n",
              "    };\n",
              "  });\n",
              "\n",
              "  // Wait for the user to pick the files.\n",
              "  const files = yield {\n",
              "    promise: Promise.race([pickedPromise, cancelPromise]),\n",
              "    response: {\n",
              "      action: 'starting',\n",
              "    }\n",
              "  };\n",
              "\n",
              "  cancel.remove();\n",
              "\n",
              "  // Disable the input element since further picks are not allowed.\n",
              "  inputElement.disabled = true;\n",
              "\n",
              "  if (!files) {\n",
              "    return {\n",
              "      response: {\n",
              "        action: 'complete',\n",
              "      }\n",
              "    };\n",
              "  }\n",
              "\n",
              "  for (const file of files) {\n",
              "    const li = document.createElement('li');\n",
              "    li.append(span(file.name, {fontWeight: 'bold'}));\n",
              "    li.append(span(\n",
              "        `(${file.type || 'n/a'}) - ${file.size} bytes, ` +\n",
              "        `last modified: ${\n",
              "            file.lastModifiedDate ? file.lastModifiedDate.toLocaleDateString() :\n",
              "                                    'n/a'} - `));\n",
              "    const percent = span('0% done');\n",
              "    li.appendChild(percent);\n",
              "\n",
              "    outputElement.appendChild(li);\n",
              "\n",
              "    const fileDataPromise = new Promise((resolve) => {\n",
              "      const reader = new FileReader();\n",
              "      reader.onload = (e) => {\n",
              "        resolve(e.target.result);\n",
              "      };\n",
              "      reader.readAsArrayBuffer(file);\n",
              "    });\n",
              "    // Wait for the data to be ready.\n",
              "    let fileData = yield {\n",
              "      promise: fileDataPromise,\n",
              "      response: {\n",
              "        action: 'continue',\n",
              "      }\n",
              "    };\n",
              "\n",
              "    // Use a chunked sending to avoid message size limits. See b/62115660.\n",
              "    let position = 0;\n",
              "    do {\n",
              "      const length = Math.min(fileData.byteLength - position, MAX_PAYLOAD_SIZE);\n",
              "      const chunk = new Uint8Array(fileData, position, length);\n",
              "      position += length;\n",
              "\n",
              "      const base64 = btoa(String.fromCharCode.apply(null, chunk));\n",
              "      yield {\n",
              "        response: {\n",
              "          action: 'append',\n",
              "          file: file.name,\n",
              "          data: base64,\n",
              "        },\n",
              "      };\n",
              "\n",
              "      let percentDone = fileData.byteLength === 0 ?\n",
              "          100 :\n",
              "          Math.round((position / fileData.byteLength) * 100);\n",
              "      percent.textContent = `${percentDone}% done`;\n",
              "\n",
              "    } while (position < fileData.byteLength);\n",
              "  }\n",
              "\n",
              "  // All done.\n",
              "  yield {\n",
              "    response: {\n",
              "      action: 'complete',\n",
              "    }\n",
              "  };\n",
              "}\n",
              "\n",
              "scope.google = scope.google || {};\n",
              "scope.google.colab = scope.google.colab || {};\n",
              "scope.google.colab._files = {\n",
              "  _uploadFiles,\n",
              "  _uploadFilesContinue,\n",
              "};\n",
              "})(self);\n",
              "</script> "
            ]
          },
          "metadata": {}
        },
        {
          "output_type": "stream",
          "name": "stdout",
          "text": [
            "Saving cure_the_princess_test.csv to cure_the_princess_test (4).csv\n",
            "Saving cure_the_princess_train.csv to cure_the_princess_train (4).csv\n",
            "Saving cure_the_princess_validation.csv to cure_the_princess_validation (4).csv\n"
          ]
        }
      ]
    },
    {
      "cell_type": "code",
      "source": [
        "train_data = pd.read_csv(io.BytesIO(uploaded['cure_the_princess_train.csv']))\n",
        "train_labels = train_data.iloc[:, -1]\n",
        "train_data = train_data.iloc[:, :-1]\n",
        "\n",
        "val_data = pd.read_csv(io.BytesIO(uploaded['cure_the_princess_validation.csv']))\n",
        "val_labels = val_data.iloc[:, -1]\n",
        "val_data = val_data.iloc[:, :-1] \n",
        "\n",
        "test_data = pd.read_csv(io.BytesIO(uploaded['cure_the_princess_test.csv']))\n",
        "test_labels = test_data.iloc[:, -1]\n",
        "test_data = test_data.iloc[:, :-1]"
      ],
      "metadata": {
        "id": "bBb1l6VyAMgi"
      },
      "execution_count": null,
      "outputs": []
    },
    {
      "cell_type": "code",
      "source": [
        "train_data = torch.Tensor(train_data.values)\n",
        "train_labels = torch.Tensor(train_labels.values).view(-1, 1)\n",
        "\n",
        "test_data = torch.Tensor(test_data.values)\n",
        "test_labels = torch.Tensor(test_labels.values).view(-1, 1)\n",
        "\n",
        "val_data = torch.Tensor(val_data.values)\n",
        "val_labels = torch.Tensor(val_labels.values).view(-1, 1)\n"
      ],
      "metadata": {
        "id": "16_W8Q0EF_Vs"
      },
      "execution_count": null,
      "outputs": []
    },
    {
      "cell_type": "code",
      "source": [
        "class MLP(nn.Module):\n",
        "    def __init__(self, input_size, hidden_size1, hidden_size2, output_size):\n",
        "        super(MLP, self).__init__()\n",
        "        self.fc1 = nn.Linear(input_size, hidden_size1)\n",
        "        self.relu1 = nn.ReLU()\n",
        "        self.fc2 = nn.Linear(hidden_size1, hidden_size2)\n",
        "        self.relu2 = nn.ReLU()\n",
        "        self.fc3 = nn.Linear(hidden_size2, output_size)\n",
        "        self.sigmoid = nn.Sigmoid()\n",
        "        \n",
        "    def forward(self, x):\n",
        "        out = self.fc1(x)\n",
        "        out = self.relu1(out)\n",
        "        out = self.fc2(out)\n",
        "        out = self.relu2(out)\n",
        "        out = self.fc3(out)\n",
        "        out = self.sigmoid(out)\n",
        "        return out\n"
      ],
      "metadata": {
        "id": "Vv8YY9CGF1p7"
      },
      "execution_count": null,
      "outputs": []
    },
    {
      "cell_type": "code",
      "source": [
        "input_size = 13\n",
        "hidden_size1 = 100\n",
        "hidden_size2 = 50\n",
        "output_size = 1\n",
        "learning_rate = 0.001\n",
        "epochs = 100\n",
        "batch_size = 32\n",
        "\n",
        "model = MLP(input_size, hidden_size1, hidden_size2, output_size)\n",
        "criterion = nn.BCELoss()\n",
        "optimizer = optim.SGD(model.parameters(), lr=learning_rate)\n"
      ],
      "metadata": {
        "id": "8XOgl2bQF5ef"
      },
      "execution_count": null,
      "outputs": []
    },
    {
      "cell_type": "code",
      "source": [
        "train_losses = []\n",
        "val_losses = []\n",
        "\n",
        "for epoch in range(epochs):\n",
        "    # Train\n",
        "    model.train()\n",
        "    train_loss = 0.0\n",
        "    for i in range(0, len(train_data), batch_size):\n",
        "        # Get batch of data\n",
        "        batch_data = train_data[i:i+batch_size]\n",
        "        batch_labels = train_labels[i:i+batch_size]\n",
        "        # Zero the gradients\n",
        "        optimizer.zero_grad()\n",
        "        # Forward pass\n",
        "        outputs = model(batch_data)\n",
        "        loss = criterion(outputs, batch_labels.view(-1, 1))\n",
        "        # Backward pass and optimization\n",
        "        loss.backward()\n",
        "        optimizer.step()\n",
        "        train_loss += loss.item() * batch_data.size(0)\n",
        "    train_loss = train_loss / len(train_data)\n",
        "    train_losses.append(train_loss)\n",
        "    \n",
        "    # Validation\n",
        "    model.eval()\n",
        "    val_loss = 0.0\n",
        "    with torch.no_grad():\n",
        "        for i in range(0, len(val_data), batch_size):\n",
        "            # Get batch of data\n",
        "            batch_data = val_data[i:i+batch_size]\n",
        "            batch_labels = val_labels[i:i+batch_size]            \n",
        "\n",
        "            # Forward pass\n",
        "            outputs = model(batch_data)\n",
        "            loss = criterion(outputs, batch_labels.view(-1, 1))\n",
        "            val_loss += loss.item() * batch_data.size(0)\n",
        "        val_loss = val_loss / len(val_data)\n",
        "        val_losses.append(val_loss)\n",
        "    \n",
        "    # Print epoch and loss\n",
        "    if (epoch+1) % 10 == 0:\n",
        "        print(f'Epoch [{epoch+1}/{epochs}], Train Loss: {train_loss:.4f}, Validation Loss: {val_loss:.4f}')"
      ],
      "metadata": {
        "id": "rhvfgiDxKILh",
        "colab": {
          "base_uri": "https://localhost:8080/"
        },
        "outputId": "997b0995-cc8a-4278-ddd8-a042502419f0"
      },
      "execution_count": null,
      "outputs": [
        {
          "output_type": "stream",
          "name": "stdout",
          "text": [
            "Epoch [10/100], Train Loss: 0.4976, Validation Loss: 0.4550\n",
            "Epoch [20/100], Train Loss: 0.3897, Validation Loss: 0.3342\n",
            "Epoch [30/100], Train Loss: 0.3370, Validation Loss: 0.2753\n",
            "Epoch [40/100], Train Loss: 0.3091, Validation Loss: 0.2466\n",
            "Epoch [50/100], Train Loss: 0.2906, Validation Loss: 0.2293\n",
            "Epoch [60/100], Train Loss: 0.2745, Validation Loss: 0.2166\n",
            "Epoch [70/100], Train Loss: 0.2598, Validation Loss: 0.2060\n",
            "Epoch [80/100], Train Loss: 0.2466, Validation Loss: 0.1972\n",
            "Epoch [90/100], Train Loss: 0.2349, Validation Loss: 0.1900\n",
            "Epoch [100/100], Train Loss: 0.2242, Validation Loss: 0.1834\n"
          ]
        }
      ]
    },
    {
      "cell_type": "code",
      "source": [
        "plt.plot(train_losses, label='Train')\n",
        "plt.plot(val_losses, label='Validation')\n",
        "plt.xlabel('Epochs')\n",
        "plt.ylabel('Loss')\n",
        "plt.legend()\n",
        "plt.show()"
      ],
      "metadata": {
        "colab": {
          "base_uri": "https://localhost:8080/",
          "height": 449
        },
        "id": "zmw6tfubK75r",
        "outputId": "595591fc-ed8d-4125-c7f2-891ca52a910e"
      },
      "execution_count": null,
      "outputs": [
        {
          "output_type": "display_data",
          "data": {
            "text/plain": [
              "<Figure size 640x480 with 1 Axes>"
            ],
            "image/png": "[encoded data removed]"
          },
          "metadata": {}
        }
      ]
    },
    {
      "cell_type": "code",
      "source": [
        "best_model_params = None\n",
        "best_val_loss = float('inf')\n",
        "patience = 20\n",
        "counter = 0\n",
        "\n",
        "for epoch in range(epochs):\n",
        "    # Train\n",
        "    model.train()\n",
        "    train_loss = 0.0\n",
        "    for i in range(0, len(train_data), batch_size):\n",
        "        # Get batch of data\n",
        "        batch_data = train_data[i:i+batch_size]\n",
        "        batch_labels = train_labels[i:i+batch_size]\n",
        "        # Zero the gradients\n",
        "        optimizer.zero_grad()\n",
        "        # Forward pass\n",
        "        outputs = model(batch_data)\n",
        "        loss = criterion(outputs, batch_labels.view(-1, 1))\n",
        "        # Backward pass and optimization\n",
        "        loss.backward()\n",
        "        optimizer.step()\n",
        "        train_loss += loss.item() * batch_data.size(0)\n",
        "    train_loss = train_loss / len(train_data)\n",
        "    train_losses.append(train_loss)\n",
        "    \n",
        "    # Validation\n",
        "    model.eval()\n",
        "    val_loss = 0.0\n",
        "    with torch.no_grad():\n",
        "        for i in range(0, len(val_data), batch_size):\n",
        "            # Get batch of data\n",
        "            batch_data = val_data[i:i+batch_size]\n",
        "            batch_labels = val_labels[i:i+batch_size]            \n",
        "\n",
        "            # Forward pass\n",
        "            outputs = model(batch_data)\n",
        "            loss = criterion(outputs, batch_labels.view(-1, 1))\n",
        "            val_loss += loss.item() * batch_data.size(0)\n",
        "        val_loss = val_loss / len(val_data)\n",
        "        val_losses.append(val_loss)\n",
        "        \n",
        "        # Check if validation loss is the best so far\n",
        "        if val_loss < best_val_loss:\n",
        "            best_val_loss = val_loss\n",
        "            best_model_params = model\n",
        "            counter = 0\n",
        "        else:\n",
        "            counter += 1\n",
        "            \n",
        "        # Early stopping condition\n",
        "        if counter >= patience:\n",
        "            #print(f'Early stopping at epoch {epoch+1}')\n",
        "            print(\"Validation loss hasn't improved for {} epochs. Stopping training early.\".format(patience))\n",
        "            break\n",
        "    \n",
        "    # Print epoch and loss\n",
        "    if (epoch+1) % 10 == 0:\n",
        "        print(f'Epoch [{epoch+1}/{epochs}], Train Loss: {train_loss:.4f}, Validation Loss: {val_loss:.4f}')"
      ],
      "metadata": {
        "colab": {
          "base_uri": "https://localhost:8080/"
        },
        "id": "GQ1S0mVS9p73",
        "outputId": "2184b582-468a-4190-8d2f-fe66b901622a"
      },
      "execution_count": null,
      "outputs": [
        {
          "output_type": "stream",
          "name": "stdout",
          "text": [
            "Epoch [10/100], Train Loss: 0.2141, Validation Loss: 0.1772\n",
            "Epoch [20/100], Train Loss: 0.2049, Validation Loss: 0.1715\n",
            "Epoch [30/100], Train Loss: 0.1963, Validation Loss: 0.1663\n",
            "Epoch [40/100], Train Loss: 0.1883, Validation Loss: 0.1617\n",
            "Epoch [50/100], Train Loss: 0.1808, Validation Loss: 0.1577\n",
            "Epoch [60/100], Train Loss: 0.1738, Validation Loss: 0.1541\n",
            "Epoch [70/100], Train Loss: 0.1671, Validation Loss: 0.1508\n",
            "Epoch [80/100], Train Loss: 0.1610, Validation Loss: 0.1479\n",
            "Epoch [90/100], Train Loss: 0.1554, Validation Loss: 0.1450\n",
            "Epoch [100/100], Train Loss: 0.1502, Validation Loss: 0.1421\n"
          ]
        }
      ]
    },
    {
      "cell_type": "code",
      "source": [
        "    # Compute validation accuracy, precision, recall and F1 score\n",
        "tp = 0  # True positives\n",
        "fp = 0  # False positives\n",
        "tn = 0  # True negatives\n",
        "fn = 0  # False negatives\n",
        "best_model_params.eval()\n",
        "with torch.no_grad():\n",
        "      for i in range(0, len(test_data), batch_size):\n",
        "            # Get batch of data\n",
        "        batch_data = test_data[i:i+batch_size]\n",
        "        batch_labels = test_labels[i:i+batch_size]\n",
        "\n",
        "            # Forward pass\n",
        "        outputs = model(batch_data)\n",
        "        predicted_labels = (outputs >= 0.5).float()\n",
        "\n",
        "            # Update confusion matrix\n",
        "        tp += torch.sum(predicted_labels * batch_labels).item()\n",
        "        fp += torch.sum(predicted_labels * (1 - batch_labels)).item()\n",
        "        tn += torch.sum((1 - predicted_labels) * (1 - batch_labels)).item()\n",
        "        fn += torch.sum((1 - predicted_labels) * batch_labels).item()\n",
        "\n",
        "    # Compute accuracy, precision, recall and F1 score\n",
        "accuracy = (tp + tn) / (tp + tn + fp + fn)\n",
        "precision = tp / (tp + fp)\n",
        "recall = tp / (tp + fn)\n",
        "f1 = 2 * precision * recall / (precision + recall)\n",
        "\n",
        "print(f'Test Accuracy: {accuracy:.4f}, Test Precision: {precision:.4f}, Test Recall: {recall:.4f}, Test F1: {f1:.4f}')\n"
      ],
      "metadata": {
        "colab": {
          "base_uri": "https://localhost:8080/"
        },
        "id": "Xycn4R-jGORw",
        "outputId": "13617783-43ed-42aa-8f7f-f9db3c2c251d"
      },
      "execution_count": null,
      "outputs": [
        {
          "output_type": "stream",
          "name": "stdout",
          "text": [
            "Test Accuracy: 0.9339, Test Precision: 0.9517, Test Recall: 0.9149, Test F1: 0.9330\n"
          ]
        }
      ]
    },
    {
      "cell_type": "code",
      "source": [
        "def set_device():\n",
        "  device = \"cuda\" if torch.cuda.is_available() else \"cpu\"\n",
        "  if device != \"cuda\":\n",
        "    print(\"WARNING: For this notebook to perform best, \"\n",
        "        \"if possible, in the menu under `Runtime` -> \"\n",
        "        \"`Change runtime type.`  select `GPU` \")\n",
        "  else:\n",
        "    print(\"GPU is enabled in this notebook.\")\n",
        "\n",
        "  return device"
      ],
      "metadata": {
        "id": "E3N1aVsHFHPR"
      },
      "execution_count": null,
      "outputs": []
    },
    {
      "cell_type": "code",
      "source": [
        "DEVICE = set_device()"
      ],
      "metadata": {
        "colab": {
          "base_uri": "https://localhost:8080/"
        },
        "id": "mJx5eKmvFJqh",
        "outputId": "58dea5ae-37af-46c2-ae5e-ea00e45a8c84"
      },
      "execution_count": null,
      "outputs": [
        {
          "output_type": "stream",
          "name": "stdout",
          "text": [
            "GPU is enabled in this notebook.\n"
          ]
        }
      ]
    }
  ]
}